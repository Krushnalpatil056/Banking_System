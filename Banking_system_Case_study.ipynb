{
 "cells": [
  {
   "cell_type": "markdown",
   "id": "366832e3-61bd-49b6-95a7-99aa2d299de5",
   "metadata": {},
   "source": [
    "# 🏦 Case Study: Banking System using Functions in Python"
   ]
  },
  {
   "cell_type": "code",
   "execution_count": 1,
   "id": "cca2a279-6538-4810-890b-c127aff7e6c0",
   "metadata": {},
   "outputs": [],
   "source": [
    "bank_data = {}"
   ]
  },
  {
   "cell_type": "code",
   "execution_count": 2,
   "id": "ad8088c0-043c-4af9-bc8e-00e3206ec6cd",
   "metadata": {},
   "outputs": [],
   "source": [
    "# Function to create a new account\n",
    "def create_account():\n",
    "    print(\"\\n--- Create New Account ---\")\n",
    "    acc_no = input(\"Enter Account Number: \")\n",
    "    if acc_no in bank_data:\n",
    "        print(\"⚠️ Account already exists!\")\n",
    "        return\n",
    "\n",
    "    name = input(\"Enter Account Holder Name: \")\n",
    "    balance = float(input(\"Enter Initial Deposit Amount: ₹\"))\n",
    "    \n",
    "    bank_data[acc_no] = {\"name\": name, \"balance\": balance}\n",
    "    print(f\"✅ Account created successfully for {name} with balance ₹{balance}\")"
   ]
  },
  {
   "cell_type": "code",
   "execution_count": 3,
   "id": "e014fb8e-aedc-4d6f-a4cf-f11317b4c3e2",
   "metadata": {},
   "outputs": [],
   "source": [
    "# Function to deposit money\n",
    "def deposit():\n",
    "    print(\"\\n--- Deposit Money ---\")\n",
    "    acc_no = input(\"Enter Account Number: \")\n",
    "    if acc_no not in bank_data:\n",
    "        print(\"❌ Account not found!\")\n",
    "        return\n",
    "    \n",
    "    amount = float(input(\"Enter amount to deposit: ₹\"))\n",
    "    if amount <= 0:\n",
    "        print(\"❌ Invalid deposit amount!\")\n",
    "        return\n",
    "    \n",
    "    bank_data[acc_no][\"balance\"] += amount\n",
    "    print(f\"💰 Deposited ₹{amount}. Updated Balance: ₹{bank_data[acc_no]['balance']}\")"
   ]
  },
  {
   "cell_type": "code",
   "execution_count": 4,
   "id": "46568c0d-7adb-40e3-bdf3-8ddcb4ed057d",
   "metadata": {},
   "outputs": [],
   "source": [
    "# Function to withdraw money\n",
    "def withdraw():\n",
    "    print(\"\\n--- Withdraw Money ---\")\n",
    "    acc_no = input(\"Enter Account Number: \")\n",
    "    if acc_no not in bank_data:\n",
    "        print(\"❌ Account not found!\")\n",
    "        return\n",
    "    \n",
    "    amount = float(input(\"Enter amount to withdraw: ₹\"))\n",
    "    if amount <= 0:\n",
    "        print(\"❌ Invalid withdrawal amount!\")\n",
    "        return\n",
    "    \n",
    "    if amount > bank_data[acc_no][\"balance\"]:\n",
    "        print(\"⚠️ Insufficient balance!\")\n",
    "        return\n",
    "    \n",
    "    bank_data[acc_no][\"balance\"] -= amount\n",
    "    print(f\"💸 Withdrawn ₹{amount}. Remaining Balance: ₹{bank_data[acc_no]['balance']}\")"
   ]
  },
  {
   "cell_type": "code",
   "execution_count": 5,
   "id": "406c3efa-f201-479f-a4c7-c6d73935508e",
   "metadata": {},
   "outputs": [],
   "source": [
    "# Function to check balance\n",
    "def check_balance():\n",
    "    print(\"\\n--- Check Balance ---\")\n",
    "    acc_no = input(\"Enter Account Number: \")\n",
    "    if acc_no not in bank_data:\n",
    "        print(\"❌ Account not found!\")\n",
    "        return\n",
    "    \n",
    "    print(f\"👤 Account Holder: {bank_data[acc_no]['name']}\")\n",
    "    print(f\"💳 Current Balance: ₹{bank_data[acc_no]['balance']}\")"
   ]
  },
  {
   "cell_type": "code",
   "execution_count": 6,
   "id": "bcd68d03-bd44-41b5-920d-38b954e396af",
   "metadata": {},
   "outputs": [],
   "source": [
    "# Function to display all accounts\n",
    "def display_all_accounts():\n",
    "    print(\"\\n--- All Customer Accounts ---\")\n",
    "    if not bank_data:\n",
    "        print(\"No accounts found!\")\n",
    "        return\n",
    "    \n",
    "    for acc_no, details in bank_data.items():\n",
    "        print(f\"A/C No: {acc_no} | Name: {details['name']} | Balance: ₹{details['balance']}\")"
   ]
  },
  {
   "cell_type": "code",
   "execution_count": 7,
   "id": "5dda0fe3-5aef-42c0-9055-77bf916326fe",
   "metadata": {},
   "outputs": [],
   "source": [
    "# Main menu\n",
    "def main():\n",
    "    while True:\n",
    "        print(\"\\n==============================\")\n",
    "        print(\"🏦 BANKING SYSTEM MENU\")\n",
    "        print(\"==============================\")\n",
    "        print(\"1. Create Account\")\n",
    "        print(\"2. Deposit Money\")\n",
    "        print(\"3. Withdraw Money\")\n",
    "        print(\"4. Check Balance\")\n",
    "        print(\"5. Display All Accounts\")\n",
    "        print(\"6. Exit\")\n",
    "        \n",
    "        choice = input(\"Enter your choice (1-6): \")\n",
    "        \n",
    "        if choice == '1':\n",
    "            create_account()\n",
    "        elif choice == '2':\n",
    "            deposit()\n",
    "        elif choice == '3':\n",
    "            withdraw()\n",
    "        elif choice == '4':\n",
    "            check_balance()\n",
    "        elif choice == '5':\n",
    "            display_all_accounts()\n",
    "        elif choice == '6':\n",
    "            print(\"🙏 Thank you for using our banking system. Goodbye!\")\n",
    "            break\n",
    "        else:\n",
    "            print(\"❌ Invalid choice! Try again.\")"
   ]
  },
  {
   "cell_type": "code",
   "execution_count": null,
   "id": "269fd71b-cf67-4955-8832-537b45030b1a",
   "metadata": {},
   "outputs": [
    {
     "name": "stdout",
     "output_type": "stream",
     "text": [
      "\n",
      "==============================\n",
      "🏦 BANKING SYSTEM MENU\n",
      "==============================\n",
      "1. Create Account\n",
      "2. Deposit Money\n",
      "3. Withdraw Money\n",
      "4. Check Balance\n",
      "5. Display All Accounts\n",
      "6. Exit\n"
     ]
    }
   ],
   "source": [
    "# Run program\n",
    "main()"
   ]
  }
 ],
 "metadata": {
  "kernelspec": {
   "display_name": "Python [conda env:base] *",
   "language": "python",
   "name": "conda-base-py"
  },
  "language_info": {
   "codemirror_mode": {
    "name": "ipython",
    "version": 3
   },
   "file_extension": ".py",
   "mimetype": "text/x-python",
   "name": "python",
   "nbconvert_exporter": "python",
   "pygments_lexer": "ipython3",
   "version": "3.13.5"
  }
 },
 "nbformat": 4,
 "nbformat_minor": 5
}
